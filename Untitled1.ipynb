{
  "nbformat": 4,
  "nbformat_minor": 0,
  "metadata": {
    "colab": {
      "provenance": []
    },
    "kernelspec": {
      "name": "python3",
      "display_name": "Python 3"
    },
    "language_info": {
      "name": "python"
    }
  },
  "cells": [
    {
      "cell_type": "markdown",
      "source": [
        "Further cleaning is done to remove user handles, most links, and most special characteres. Stemming is also done to simplify tokens, which are then put back together as a single body of text."
      ],
      "metadata": {
        "id": "mouie_tpq7SD"
      }
    },
    {
      "cell_type": "code",
      "execution_count": 2,
      "metadata": {
        "id": "TMMx68BkmrlY"
      },
      "outputs": [],
      "source": [
        "#packages needed\n",
        "import pandas as pd\n",
        "import regex as re\n",
        "import nltk\n",
        "from nltk import PorterStemmer\n",
        "ps = PorterStemmer()"
      ]
    },
    {
      "cell_type": "code",
      "source": [
        "def further_cleaning(df):\n",
        "  #remove urls\n",
        "  df['text'] = df['text'].apply(lambda x: re.sub(r'http\\S+', '', x, flags=re.MULTILINE))\n",
        "  #remove user handles\n",
        "  df['text'] = df['text'].apply(lambda x: re.sub(r'@[\\w]*', '', x))\n",
        "  #remove special characters\n",
        "  df['text'] = df['text'].str.replace(\"[^a-zA-Z#]\", \" \")\n",
        "  #remove strings less than length 3\n",
        "  df['text'] = df['text'].apply(lambda x: ' '.join([w for w in x.split() if len(w)>3]))\n",
        "\n",
        "  #tokenizing and stemming\n",
        "  token = df['text'].apply(lambda x : x.split())\n",
        "  token = token.apply(lambda x: [ps.stem(i) for i in x])\n",
        "  \n",
        "  #rejoin tokens\n",
        "  for i in range(len(token)):\n",
        "    token[i] = ' '.join(token[i])\n",
        "  df['text'] = token\n",
        "  return df\n"
      ],
      "metadata": {
        "id": "qnA8bVYGm1sU"
      },
      "execution_count": 4,
      "outputs": []
    },
    {
      "cell_type": "markdown",
      "source": [
        "Final DataFrame after this line with the prefix \"new_\""
      ],
      "metadata": {
        "id": "615OXhUv6x5Y"
      }
    },
    {
      "cell_type": "code",
      "source": [
        "new_df = further_cleaning(en_df)"
      ],
      "metadata": {
        "id": "6xaBnCPurSVB"
      },
      "execution_count": null,
      "outputs": []
    }
  ]
}