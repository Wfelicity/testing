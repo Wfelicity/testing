{
  "nbformat": 4,
  "nbformat_minor": 0,
  "metadata": {
    "colab": {
      "provenance": []
    },
    "kernelspec": {
      "name": "python3",
      "display_name": "Python 3"
    },
    "language_info": {
      "name": "python"
    }
  },
  "cells": [
    {
      "cell_type": "code",
      "source": [
        "train_predictions = [x.output for x in train_predictions]\n",
        "train_predictions = [\"positive\" if x == 'POS' else \"negative\" if x == 'NEG' else \"neutral\" for x in train_predictions]\n",
        "train_predictions"
      ],
      "metadata": {
        "id": "6xaBnCPurSVB"
      },
      "execution_count": null,
      "outputs": []
    }
  ]
}